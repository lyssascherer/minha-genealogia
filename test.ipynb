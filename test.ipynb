{
 "cells": [
  {
   "cell_type": "code",
   "execution_count": 1,
   "metadata": {},
   "outputs": [],
   "source": [
    "from git import Repo"
   ]
  },
  {
   "cell_type": "code",
   "execution_count": 3,
   "metadata": {},
   "outputs": [],
   "source": [
    "from git import Repo\n",
    "path = \"/Users/lyssa/minha-genealogia\"\n",
    "repo = Repo(path)\n",
    "\n"
   ]
  },
  {
   "cell_type": "code",
   "execution_count": 23,
   "metadata": {},
   "outputs": [
    {
     "name": "stderr",
     "output_type": "stream",
     "text": [
      "Exception in thread Thread-31:\n",
      "Traceback (most recent call last):\n",
      "  File \"/Users/lyssa/Library/Python/3.8/lib/python/site-packages/git/cmd.py\", line 114, in pump_stream\n",
      "    handler(line)\n",
      "  File \"/Users/lyssa/Library/Python/3.8/lib/python/site-packages/git/diff.py\", line 570, in <lambda>\n",
      "    handle_process_output(proc, lambda byt: cls._handle_diff_line(byt, repo, index),\n",
      "  File \"/Users/lyssa/Library/Python/3.8/lib/python/site-packages/git/diff.py\", line 517, in _handle_diff_line\n",
      "    old_mode, new_mode, a_blob_id, b_blob_id, _change_type = meta.split(None, 4)\n",
      "ValueError: not enough values to unpack (expected 5, got 3)\n",
      "\n",
      "The above exception was the direct cause of the following exception:\n",
      "\n",
      "Traceback (most recent call last):\n",
      "  File \"/Library/Developer/CommandLineTools/Library/Frameworks/Python3.framework/Versions/3.8/lib/python3.8/threading.py\", line 932, in _bootstrap_inner\n",
      "    self.run()\n",
      "  File \"/Library/Developer/CommandLineTools/Library/Frameworks/Python3.framework/Versions/3.8/lib/python3.8/threading.py\", line 870, in run\n",
      "    self._target(*self._args, **self._kwargs)\n",
      "  File \"/Users/lyssa/Library/Python/3.8/lib/python/site-packages/git/cmd.py\", line 120, in pump_stream\n",
      "    raise CommandError([f'<{name}-pump>'] + remove_password_if_present(cmdline), ex) from ex\n",
      "git.exc.CommandError: Cmd('<stdout-pump>') failed due to: ValueError('not enough values to unpack (expected 5, got 3)')\n",
      "  cmdline: <stdout-pump> git diff --abbrev=40 --full-index -M --raw -z --no-color -- docs\n"
     ]
    },
    {
     "data": {
      "text/plain": [
       "[<git.diff.Diff at 0x10bbe9430>,\n",
       " <git.diff.Diff at 0x10bbe94c0>,\n",
       " <git.diff.Diff at 0x10bbe9790>,\n",
       " <git.diff.Diff at 0x10bbe9820>,\n",
       " <git.diff.Diff at 0x10bbe98b0>,\n",
       " <git.diff.Diff at 0x10bbe9940>,\n",
       " <git.diff.Diff at 0x10bbe99d0>,\n",
       " <git.diff.Diff at 0x10bbe9a60>,\n",
       " <git.diff.Diff at 0x10bbe9af0>,\n",
       " <git.diff.Diff at 0x10bbe9b80>,\n",
       " <git.diff.Diff at 0x10bbe9c10>]"
      ]
     },
     "execution_count": 23,
     "metadata": {},
     "output_type": "execute_result"
    }
   ],
   "source": [
    "repo.index.diff(None, paths=\"docs\")"
   ]
  },
  {
   "cell_type": "code",
   "execution_count": 19,
   "metadata": {},
   "outputs": [
    {
     "name": "stderr",
     "output_type": "stream",
     "text": [
      "Exception in thread Thread-27:\n",
      "Traceback (most recent call last):\n",
      "  File \"/Users/lyssa/Library/Python/3.8/lib/python/site-packages/git/cmd.py\", line 114, in pump_stream\n",
      "    handler(line)\n",
      "  File \"/Users/lyssa/Library/Python/3.8/lib/python/site-packages/git/diff.py\", line 570, in <lambda>\n",
      "    handle_process_output(proc, lambda byt: cls._handle_diff_line(byt, repo, index),\n",
      "  File \"/Users/lyssa/Library/Python/3.8/lib/python/site-packages/git/diff.py\", line 517, in _handle_diff_line\n",
      "    old_mode, new_mode, a_blob_id, b_blob_id, _change_type = meta.split(None, 4)\n",
      "ValueError: not enough values to unpack (expected 5, got 3)\n",
      "\n",
      "The above exception was the direct cause of the following exception:\n",
      "\n",
      "Traceback (most recent call last):\n",
      "  File \"/Library/Developer/CommandLineTools/Library/Frameworks/Python3.framework/Versions/3.8/lib/python3.8/threading.py\", line 932, in _bootstrap_inner\n",
      "    self.run()\n",
      "  File \"/Library/Developer/CommandLineTools/Library/Frameworks/Python3.framework/Versions/3.8/lib/python3.8/threading.py\", line 870, in run\n",
      "    self._target(*self._args, **self._kwargs)\n",
      "  File \"/Users/lyssa/Library/Python/3.8/lib/python/site-packages/git/cmd.py\", line 120, in pump_stream\n",
      "    raise CommandError([f'<{name}-pump>'] + remove_password_if_present(cmdline), ex) from ex\n",
      "git.exc.CommandError: Cmd('<stdout-pump>') failed due to: ValueError('not enough values to unpack (expected 5, got 3)')\n",
      "  cmdline: <stdout-pump> git diff --abbrev=40 --full-index -M --raw -z --no-color\n"
     ]
    }
   ],
   "source": [
    "changed_files = [ item.a_path for item in repo.index.diff(None) ]\n",
    "# changed_files = [ file.split(\"/\")[1] for file in changed_files if \"docs/\" in file]\n",
    "untracked_files = [file.split(\"/\")[1] for file in repo.untracked_files if \"docs/\" in file]\n"
   ]
  },
  {
   "cell_type": "code",
   "execution_count": 17,
   "metadata": {},
   "outputs": [
    {
     "name": "stdout",
     "output_type": "stream",
     "text": [
      "changed_files: ['Adolfo Scherer (1874-).html', 'Alcirio Silvério Scherer.html', 'Anna Elisabetha Pündrich (1872-1949).html', 'Araci Scherer (Eckhard).html', 'Arthur Astor Scherer.html', 'Carlos Pündrich (1839-1918).html', 'Catharina Grub.html', 'Catharina Luiza Herrmann (1864-1935).html', 'Catharina Theresa Scherer (1878-1951).html', 'Catharina Weide (1833-1915).html', 'Certidão de Casamento']\n",
      "untracked_files: ['Antenor Scherer.html', 'Lajeado, Rio Grande do Sul, Brasil.html', 'Norberto Edgar Scherer (1914-1986).html', 'Norminda Scherer (1911-1985).html', 'Olinda Scherer.html', 'Registro de Obito Frederico Jacob Theobaldo Scherer.html', 'embed.html']\n"
     ]
    }
   ],
   "source": [
    "print(f\"changed_files: {changed_files}\")\n",
    "print(f\"untracked_files: {untracked_files}\")"
   ]
  },
  {
   "cell_type": "code",
   "execution_count": null,
   "metadata": {},
   "outputs": [],
   "source": [
    "g"
   ]
  }
 ],
 "metadata": {
  "interpreter": {
   "hash": "31f2aee4e71d21fbe5cf8b01ff0e069b9275f58929596ceb00d14d90e3e16cd6"
  },
  "kernelspec": {
   "display_name": "Python 3.8.9 64-bit",
   "language": "python",
   "name": "python3"
  },
  "language_info": {
   "codemirror_mode": {
    "name": "ipython",
    "version": 3
   },
   "file_extension": ".py",
   "mimetype": "text/x-python",
   "name": "python",
   "nbconvert_exporter": "python",
   "pygments_lexer": "ipython3",
   "version": "3.8.9"
  },
  "orig_nbformat": 4
 },
 "nbformat": 4,
 "nbformat_minor": 2
}
