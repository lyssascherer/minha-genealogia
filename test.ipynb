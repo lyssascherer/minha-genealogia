{
 "cells": [
  {
   "cell_type": "code",
   "execution_count": 1,
   "metadata": {},
   "outputs": [],
   "source": [
    "from git import Repo"
   ]
  },
  {
   "cell_type": "code",
   "execution_count": 6,
   "metadata": {},
   "outputs": [],
   "source": [
    "from git import Repo\n",
    "path = \"/Users/lyssa/minha-genealogia\"\n",
    "repo = Repo(path)\n",
    "\n"
   ]
  },
  {
   "cell_type": "code",
   "execution_count": 10,
   "metadata": {},
   "outputs": [
    {
     "data": {
      "text/plain": [
       "[<git.diff.Diff at 0x111d3c8b0>,\n",
       " <git.diff.Diff at 0x112fd5ca0>,\n",
       " <git.diff.Diff at 0x112fd5c10>,\n",
       " <git.diff.Diff at 0x112fd5550>,\n",
       " <git.diff.Diff at 0x112fd5b80>,\n",
       " <git.diff.Diff at 0x112fd5dc0>]"
      ]
     },
     "execution_count": 10,
     "metadata": {},
     "output_type": "execute_result"
    }
   ],
   "source": [
    "repo.index.diff(None, paths=\"docs\")"
   ]
  },
  {
   "cell_type": "code",
   "execution_count": 1,
   "metadata": {},
   "outputs": [
    {
     "name": "stdout",
     "output_type": "stream",
     "text": [
      "changed_files: ['Araci Scherer (Eckhard).html', 'Arthur Astor Scherer.html', 'Frederico Jacob Theobaldo Scherer (1885-1948).html', 'Izolete Deli Langaro (Scherer).html', 'Norberto Edgar Scherer (1914-1986).html', 'index.html']\n",
      "untracked_files: ['Yuri Gabriel Langaro.html']\n"
     ]
    }
   ],
   "source": [
    "\n",
    "\n",
    "\n"
   ]
  },
  {
   "cell_type": "code",
   "execution_count": null,
   "metadata": {},
   "outputs": [],
   "source": [
    "from git import Repo\n",
    "\n",
    "def get_git_changes():\n",
    "    path = \"/Users/lyssa/minha-genealogia\"\n",
    "    repo = Repo(path)\n",
    "    changed_files = [ item.a_path.split(\"/\")[1] for item in repo.index.diff(None) if \"docs/\" in item.a_path]\n",
    "    untracked_files = [file.split(\"/\")[1] for file in repo.untracked_files if \"docs/\" in file]\n",
    "\n",
    "changed_files, untracked_files = get_git_changes()\n",
    "print(f\"changed_files: {changed_files}\")\n",
    "print(f\"untracked_files: {untracked_files}\")"
   ]
  },
  {
   "cell_type": "code",
   "execution_count": 32,
   "metadata": {},
   "outputs": [
    {
     "data": {
      "text/plain": [
       "'<p>Páginas modificadas: <a href=\"Izolete%20Deli%20Langaro%20(Scherer).html\">Izolete Deli Langaro (Scherer)</a>, <a href=\"Norberto%20Edgar%20Scherer%20(1914-1986).html\">Norberto Edgar Scherer (1914-1986)</a>, <a href=\"Araci%20Scherer%20(Eckhard).html\">Araci Scherer (Eckhard)</a>, <a href=\"Arthur%20Astor%20Scherer.html\">Arthur Astor Scherer</a>, <a href=\"Frederico%20Jacob%20Theobaldo%20Scherer%20(1885-1948).html\">Frederico Jacob Theobaldo Scherer (1885-1948)</a> </p><p>Páginas adicionadas: <a href=\"Yuri%20Gabriel%20Langaro.html\">Yuri Gabriel Langaro</a> </p>'"
      ]
     },
     "execution_count": 32,
     "metadata": {},
     "output_type": "execute_result"
    }
   ],
   "source": [
    "def modified_pages(files):\n",
    "    ignore_files = set([\"TODO\", \"index\", \".DS_Store\"])\n",
    "    files = {name.replace(\".html\", \"\") for name in files}\n",
    "    files = [f'<a href=\"{name.replace(\" \",\"%20\").replace(\"?\",\"%3F\")}.html\">{name}</a>' for name in files if name not in ignore_files]\n",
    "    return \", \".join(files)\n",
    "\n",
    "html = f\"<p>Páginas modificadas: {modified_pages(changed_files)} </p>\"\n",
    "html += f\"<p>Páginas adicionadas: {modified_pages(untracked_files)} </p>\"\n",
    "\n",
    "html"
   ]
  },
  {
   "cell_type": "code",
   "execution_count": null,
   "metadata": {},
   "outputs": [],
   "source": []
  }
 ],
 "metadata": {
  "interpreter": {
   "hash": "31f2aee4e71d21fbe5cf8b01ff0e069b9275f58929596ceb00d14d90e3e16cd6"
  },
  "kernelspec": {
   "display_name": "Python 3.8.9 64-bit",
   "language": "python",
   "name": "python3"
  },
  "language_info": {
   "codemirror_mode": {
    "name": "ipython",
    "version": 3
   },
   "file_extension": ".py",
   "mimetype": "text/x-python",
   "name": "python",
   "nbconvert_exporter": "python",
   "pygments_lexer": "ipython3",
   "version": "3.8.9"
  },
  "orig_nbformat": 4
 },
 "nbformat": 4,
 "nbformat_minor": 2
}
